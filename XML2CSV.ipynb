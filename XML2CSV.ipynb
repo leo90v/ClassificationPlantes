{
 "cells": [
  {
   "cell_type": "markdown",
   "metadata": {},
   "source": [
    "### XML2CSV\n",
    "This notebook converts all of the xml files associated to each image into a single csv file we can more easily manipulate for our experiments\n",
    "\n",
    "Data must be located in './data/raw_data'"
   ]
  },
  {
   "cell_type": "code",
   "execution_count": 1,
   "metadata": {},
   "outputs": [],
   "source": [
    "from bs4 import BeautifulSoup as Soup\n",
    "import glob\n",
    "import csv\n",
    "\n",
    "path = \".\\\\data\\\\raw_data\\\\\""
   ]
  },
  {
   "cell_type": "code",
   "execution_count": 2,
   "metadata": {},
   "outputs": [],
   "source": [
    "def parse_xml(file, get_header=False):\n",
    "    row = []\n",
    "    soup = Soup(file)\n",
    "    for tag in soup.image.findAll():\n",
    "        if get_header == True:\n",
    "            row.append(tag.name)\n",
    "        else:\n",
    "            row.append(tag.text)\n",
    "    file.close()\n",
    "    return row"
   ]
  },
  {
   "cell_type": "code",
   "execution_count": 3,
   "metadata": {},
   "outputs": [],
   "source": [
    "files = glob.glob(path + '*.xml')\n",
    "files[0]\n",
    "\n",
    "rows = []\n",
    "rows.append(parse_xml(open(files[0], encoding=\"utf-8\"),True))\n",
    "\n",
    "for file in files:\n",
    "    rows.append(parse_xml(open(file, encoding=\"utf-8\")))\n",
    "    \n",
    "with open(path + 'metadata.csv','w',newline='',encoding=\"utf-8\") as writeFile:\n",
    "    writer = csv.writer(writeFile,delimiter=',')\n",
    "    writer.writerows(rows)\n",
    "    writeFile.close()"
   ]
  }
 ],
 "metadata": {
  "kernelspec": {
   "display_name": "Python 3",
   "language": "python",
   "name": "python3"
  },
  "language_info": {
   "codemirror_mode": {
    "name": "ipython",
    "version": 3
   },
   "file_extension": ".py",
   "mimetype": "text/x-python",
   "name": "python",
   "nbconvert_exporter": "python",
   "pygments_lexer": "ipython3",
   "version": "3.7.2"
  }
 },
 "nbformat": 4,
 "nbformat_minor": 2
}
