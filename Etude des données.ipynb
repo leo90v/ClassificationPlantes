{
 "cells": [
  {
   "cell_type": "markdown",
   "metadata": {},
   "source": [
    "# Visualisation des données"
   ]
  },
  {
   "cell_type": "code",
   "execution_count": 1,
   "metadata": {},
   "outputs": [],
   "source": [
    "# Imports de base\n",
    "import pandas as pd\n",
    "import os\n",
    "\n",
    "# pour la visualisation graphique\n",
    "import plotly.graph_objects as go\n",
    "\n",
    "# pour la visualisation numérique\n",
    "import numpy as np"
   ]
  },
  {
   "cell_type": "code",
   "execution_count": 2,
   "metadata": {},
   "outputs": [
    {
     "data": {
      "text/html": [
       "<div>\n",
       "<style scoped>\n",
       "    .dataframe tbody tr th:only-of-type {\n",
       "        vertical-align: middle;\n",
       "    }\n",
       "\n",
       "    .dataframe tbody tr th {\n",
       "        vertical-align: top;\n",
       "    }\n",
       "\n",
       "    .dataframe thead th {\n",
       "        text-align: right;\n",
       "    }\n",
       "</style>\n",
       "<table border=\"1\" class=\"dataframe\">\n",
       "  <thead>\n",
       "    <tr style=\"text-align: right;\">\n",
       "      <th></th>\n",
       "      <th>observationid</th>\n",
       "      <th>mediaid</th>\n",
       "      <th>vote</th>\n",
       "      <th>content</th>\n",
       "      <th>classid</th>\n",
       "      <th>family</th>\n",
       "      <th>genus</th>\n",
       "      <th>species</th>\n",
       "      <th>author</th>\n",
       "      <th>date</th>\n",
       "      <th>location</th>\n",
       "      <th>latitude</th>\n",
       "      <th>longitude</th>\n",
       "      <th>yearinclef</th>\n",
       "      <th>observationid2014</th>\n",
       "      <th>imageid2014</th>\n",
       "      <th>learntag</th>\n",
       "    </tr>\n",
       "  </thead>\n",
       "  <tbody>\n",
       "    <tr>\n",
       "      <td>0</td>\n",
       "      <td>15010</td>\n",
       "      <td>100019</td>\n",
       "      <td>3.0</td>\n",
       "      <td>Flower</td>\n",
       "      <td>8527</td>\n",
       "      <td>Asteraceae</td>\n",
       "      <td>Achillea</td>\n",
       "      <td>Achillea millefolium L.</td>\n",
       "      <td>mathieu menand</td>\n",
       "      <td>2009-4-24</td>\n",
       "      <td>Aucamville</td>\n",
       "      <td>NaN</td>\n",
       "      <td>NaN</td>\n",
       "      <td>PlantCLEF2014</td>\n",
       "      <td>4688.0</td>\n",
       "      <td>52287.0</td>\n",
       "      <td>Train</td>\n",
       "    </tr>\n",
       "    <tr>\n",
       "      <td>1</td>\n",
       "      <td>10732</td>\n",
       "      <td>100056</td>\n",
       "      <td>4.0</td>\n",
       "      <td>Flower</td>\n",
       "      <td>4516</td>\n",
       "      <td>Ranunculaceae</td>\n",
       "      <td>Ficaria</td>\n",
       "      <td>Ficaria verna Huds.</td>\n",
       "      <td>alain06</td>\n",
       "      <td>2014-9-7</td>\n",
       "      <td>Biot</td>\n",
       "      <td>43.62495</td>\n",
       "      <td>7.10440</td>\n",
       "      <td>PlantCLEF2015</td>\n",
       "      <td>NaN</td>\n",
       "      <td>NaN</td>\n",
       "      <td>Train</td>\n",
       "    </tr>\n",
       "    <tr>\n",
       "      <td>2</td>\n",
       "      <td>24005</td>\n",
       "      <td>100087</td>\n",
       "      <td>4.0</td>\n",
       "      <td>Flower</td>\n",
       "      <td>588</td>\n",
       "      <td>Asteraceae</td>\n",
       "      <td>Centaurea</td>\n",
       "      <td>Centaurea jacea L.</td>\n",
       "      <td>thierry pernot</td>\n",
       "      <td>1800-1-1</td>\n",
       "      <td>NaN</td>\n",
       "      <td>NaN</td>\n",
       "      <td>NaN</td>\n",
       "      <td>PlantCLEF2014</td>\n",
       "      <td>2559.0</td>\n",
       "      <td>32864.0</td>\n",
       "      <td>Train</td>\n",
       "    </tr>\n",
       "    <tr>\n",
       "      <td>3</td>\n",
       "      <td>19892</td>\n",
       "      <td>100182</td>\n",
       "      <td>4.0</td>\n",
       "      <td>Flower</td>\n",
       "      <td>9930</td>\n",
       "      <td>Orchidaceae</td>\n",
       "      <td>Epipactis</td>\n",
       "      <td>Epipactis helleborine (L.) Crantz</td>\n",
       "      <td>thierry pernot</td>\n",
       "      <td>1800-1-1</td>\n",
       "      <td>NaN</td>\n",
       "      <td>NaN</td>\n",
       "      <td>NaN</td>\n",
       "      <td>PlantCLEF2014</td>\n",
       "      <td>11733.0</td>\n",
       "      <td>40782.0</td>\n",
       "      <td>Train</td>\n",
       "    </tr>\n",
       "    <tr>\n",
       "      <td>4</td>\n",
       "      <td>36220</td>\n",
       "      <td>10019</td>\n",
       "      <td>4.0</td>\n",
       "      <td>Flower</td>\n",
       "      <td>6487</td>\n",
       "      <td>Orchidaceae</td>\n",
       "      <td>Ophrys</td>\n",
       "      <td>Ophrys apifera Huds.</td>\n",
       "      <td>jean-claude echardour</td>\n",
       "      <td>2010-6-26</td>\n",
       "      <td>Saffré</td>\n",
       "      <td>47.49689</td>\n",
       "      <td>-1.59442</td>\n",
       "      <td>PlantCLEF2014</td>\n",
       "      <td>13210.0</td>\n",
       "      <td>8080.0</td>\n",
       "      <td>Train</td>\n",
       "    </tr>\n",
       "  </tbody>\n",
       "</table>\n",
       "</div>"
      ],
      "text/plain": [
       "   observationid  mediaid  vote content  classid         family      genus  \\\n",
       "0          15010   100019   3.0  Flower     8527     Asteraceae   Achillea   \n",
       "1          10732   100056   4.0  Flower     4516  Ranunculaceae    Ficaria   \n",
       "2          24005   100087   4.0  Flower      588     Asteraceae  Centaurea   \n",
       "3          19892   100182   4.0  Flower     9930    Orchidaceae  Epipactis   \n",
       "4          36220    10019   4.0  Flower     6487    Orchidaceae     Ophrys   \n",
       "\n",
       "                             species                 author       date  \\\n",
       "0            Achillea millefolium L.         mathieu menand  2009-4-24   \n",
       "1                Ficaria verna Huds.                alain06   2014-9-7   \n",
       "2                 Centaurea jacea L.         thierry pernot   1800-1-1   \n",
       "3  Epipactis helleborine (L.) Crantz         thierry pernot   1800-1-1   \n",
       "4               Ophrys apifera Huds.  jean-claude echardour  2010-6-26   \n",
       "\n",
       "     location  latitude  longitude     yearinclef  observationid2014  \\\n",
       "0  Aucamville       NaN        NaN  PlantCLEF2014             4688.0   \n",
       "1        Biot  43.62495    7.10440  PlantCLEF2015                NaN   \n",
       "2         NaN       NaN        NaN  PlantCLEF2014             2559.0   \n",
       "3         NaN       NaN        NaN  PlantCLEF2014            11733.0   \n",
       "4      Saffré  47.49689   -1.59442  PlantCLEF2014            13210.0   \n",
       "\n",
       "   imageid2014 learntag  \n",
       "0      52287.0    Train  \n",
       "1          NaN    Train  \n",
       "2      32864.0    Train  \n",
       "3      40782.0    Train  \n",
       "4       8080.0    Train  "
      ]
     },
     "execution_count": 2,
     "metadata": {},
     "output_type": "execute_result"
    }
   ],
   "source": [
    "file = \".\" + os.sep +\"data\"+ os.sep +\"raw_data\"+ os.sep +\"metadata.csv\"\n",
    "df = pd.read_csv(file,sep=\",\")\n",
    "df.head()"
   ]
  },
  {
   "cell_type": "markdown",
   "metadata": {},
   "source": [
    "## Analyse des différent attributs"
   ]
  },
  {
   "cell_type": "code",
   "execution_count": 3,
   "metadata": {},
   "outputs": [
    {
     "data": {
      "text/plain": [
       "(3474, 17)"
      ]
     },
     "execution_count": 3,
     "metadata": {},
     "output_type": "execute_result"
    }
   ],
   "source": [
    "df.shape"
   ]
  },
  {
   "cell_type": "code",
   "execution_count": 4,
   "metadata": {},
   "outputs": [
    {
     "name": "stdout",
     "output_type": "stream",
     "text": [
      "Chaque attribut mediaid est il unique ? :  True\n"
     ]
    }
   ],
   "source": [
    "nbValeurDiffMediaId = len(df.groupby(['mediaid'])['mediaid'].nunique())\n",
    "print(\"Chaque attribut mediaid est il unique ? : \",nbValeurDiffMediaId==df.shape[0])"
   ]
  },
  {
   "cell_type": "code",
   "execution_count": 5,
   "metadata": {},
   "outputs": [
    {
     "name": "stdout",
     "output_type": "stream",
     "text": [
      "Avons nous uniquement des types fleurs à traiter ? :  True\n"
     ]
    }
   ],
   "source": [
    "ContentNotFlower = np.where(df['content']!='Flower')\n",
    "\n",
    "print(\"Avons nous uniquement des types fleurs à traiter ? : \",len(ContentNotFlower[0])==0)"
   ]
  },
  {
   "cell_type": "code",
   "execution_count": 6,
   "metadata": {},
   "outputs": [
    {
     "name": "stdout",
     "output_type": "stream",
     "text": [
      "Nous avons  0  family nul sur  3474  données.\n"
     ]
    }
   ],
   "source": [
    "familyNull = np.where(pd.isnull(df['family']))\n",
    "print(\"Nous avons \", len(familyNull[0]), \" family nul sur \", df.shape[0], \" données.\")"
   ]
  },
  {
   "cell_type": "code",
   "execution_count": 7,
   "metadata": {},
   "outputs": [
    {
     "name": "stdout",
     "output_type": "stream",
     "text": [
      "Nous avons  0  genus nul sur  3474  données.\n"
     ]
    }
   ],
   "source": [
    "genusNull = np.where(pd.isnull(df['genus']))\n",
    "print(\"Nous avons \", len(genusNull[0]), \" genus nul sur \", df.shape[0], \" données.\")"
   ]
  },
  {
   "cell_type": "code",
   "execution_count": 8,
   "metadata": {},
   "outputs": [
    {
     "name": "stdout",
     "output_type": "stream",
     "text": [
      "Nous avons  0  species nul sur  3474  données.\n"
     ]
    }
   ],
   "source": [
    "speciesNull = np.where(pd.isnull(df['species']))\n",
    "print(\"Nous avons \", len(speciesNull[0]), \" species nul sur \", df.shape[0], \" données.\")"
   ]
  },
  {
   "cell_type": "code",
   "execution_count": 9,
   "metadata": {},
   "outputs": [
    {
     "name": "stdout",
     "output_type": "stream",
     "text": [
      "Chaque genre est affilié à une seule famille ? : True\n",
      "Chaque espèce est affiliée à une seule famille ? : True\n",
      "Chaque espèce est affiliée à un seul genre ? : True\n"
     ]
    }
   ],
   "source": [
    "fam = len(df['family'].unique())\n",
    "gen = len(df['genus'].unique())\n",
    "esp = len(df['species'].unique())\n",
    "print(\"Chaque genre est affilié à une seule famille ? :\",df.groupby('family')['genus'].nunique().sum()==gen)\n",
    "print(\"Chaque espèce est affiliée à une seule famille ? :\",df.groupby('family')['species'].nunique().sum()==esp)\n",
    "print(\"Chaque espèce est affiliée à un seul genre ? :\",df.groupby('genus')['species'].nunique().sum()==esp)\n"
   ]
  },
  {
   "cell_type": "code",
   "execution_count": 10,
   "metadata": {},
   "outputs": [
    {
     "name": "stdout",
     "output_type": "stream",
     "text": [
      "Les noms des espèces ont-elles une classid unique ?  True\n"
     ]
    }
   ],
   "source": [
    "species = df['species'].unique();\n",
    "classid = []\n",
    "\n",
    "unique = True\n",
    "\n",
    "for i in range(len(species)):\n",
    "    classid.append(\"\")\n",
    "\n",
    "for i in range(df.shape[0]):\n",
    "    index = -1\n",
    "    for j in range(len(species)) :\n",
    "        if species[j] == df['species'][i] :\n",
    "            index = j\n",
    "    if index == -1 :\n",
    "        print(\"erreur\")\n",
    "        unique = False\n",
    "    else :\n",
    "        if classid[index] == \"\" :\n",
    "            classid[index] = df['classid'][i]\n",
    "        else :\n",
    "            if classid[index] != df['classid'][i] :\n",
    "                unique = False\n",
    "    \n",
    "print(\"Les noms des espèces ont-elles une classid unique ? \", unique)"
   ]
  },
  {
   "cell_type": "code",
   "execution_count": 11,
   "metadata": {},
   "outputs": [
    {
     "name": "stdout",
     "output_type": "stream",
     "text": [
      "Nous avons  330  location nul sur  3474  données.  9.499136442141623 %\n"
     ]
    }
   ],
   "source": [
    "LocationNull = np.where(pd.isnull(df['location']))\n",
    "print(\"Nous avons \", len(LocationNull[0]), \" location nul sur \", df.shape[0], \" données. \",len(LocationNull[0])/df.shape[0]*100,\"%\")"
   ]
  },
  {
   "cell_type": "code",
   "execution_count": 12,
   "metadata": {},
   "outputs": [
    {
     "name": "stdout",
     "output_type": "stream",
     "text": [
      "Nous avons  1667  latitude nul sur  3474  données.  47.98503166378814 %\n"
     ]
    }
   ],
   "source": [
    "latitudeNull = np.where(pd.isnull(df['latitude']))\n",
    "print(\"Nous avons \", len(latitudeNull[0]), \" latitude nul sur \", df.shape[0], \" données. \",len(latitudeNull[0])/df.shape[0]*100,\"%\")"
   ]
  },
  {
   "cell_type": "code",
   "execution_count": 13,
   "metadata": {},
   "outputs": [
    {
     "name": "stdout",
     "output_type": "stream",
     "text": [
      "Nous avons  1668  longitude nul sur  3474  données.  48.01381692573403 %\n"
     ]
    }
   ],
   "source": [
    "longitudeNull = np.where(pd.isnull(df['longitude']))\n",
    "print(\"Nous avons \", len(longitudeNull[0]), \" longitude nul sur \", df.shape[0], \" données. \",len(longitudeNull[0])/df.shape[0]*100,\"%\")"
   ]
  },
  {
   "cell_type": "code",
   "execution_count": 14,
   "metadata": {},
   "outputs": [
    {
     "name": "stdout",
     "output_type": "stream",
     "text": [
      "Nous avons  268  images qui n'ont aucune des trois méta données sur  3474  images.  7.714450201496834 %\n"
     ]
    }
   ],
   "source": [
    "locationlist = pd.isnull(df['location'])\n",
    "latitudelist = pd.isnull(df['latitude'])\n",
    "longitudelist = pd.isnull(df['longitude'])\n",
    "cpt = 0\n",
    "for i in range(df.shape[0]) :\n",
    "    if locationlist[i] and (latitudelist[i] or longitudelist[i]) :\n",
    "        cpt = cpt + 1\n",
    "print(\"Nous avons \", cpt, \" images qui n'ont aucune des trois méta données sur \", df.shape[0], \" images. \",cpt/df.shape[0]*100,\"%\")"
   ]
  },
  {
   "cell_type": "code",
   "execution_count": 15,
   "metadata": {},
   "outputs": [
    {
     "name": "stdout",
     "output_type": "stream",
     "text": [
      "Toutes les valeurs de vote sont-elles nulles ? :  True\n"
     ]
    }
   ],
   "source": [
    "print(\"Toutes les valeurs de vote sont-elles nulles ? : \",len(np.where(pd.isnull(df['vote']))[0])==0)"
   ]
  },
  {
   "cell_type": "markdown",
   "metadata": {},
   "source": [
    "## Annalyse de la distribution"
   ]
  },
  {
   "cell_type": "code",
   "execution_count": 16,
   "metadata": {
    "scrolled": true
   },
   "outputs": [
    {
     "data": {
      "text/plain": [
       "species\n",
       "Achillea millefolium L.                                     62\n",
       "Aconitum napellus L.                                        61\n",
       "Anacamptis morio (L.) R.M.Bateman, Pridgeon & M.W.Chase     49\n",
       "Anacamptis pyramidalis (L.) Rich.                           85\n",
       "Anemone alpina L.                                           52\n",
       "Anemone hepatica L.                                         52\n",
       "Anemone nemorosa L.                                         55\n",
       "Aquilegia vulgaris L.                                       75\n",
       "Astrantia major L.                                          56\n",
       "Bellis perennis L.                                          97\n",
       "Centaurea aspera L.                                         65\n",
       "Centaurea jacea L.                                          66\n",
       "Chelidonium majus L.                                        60\n",
       "Cichorium intybus L.                                       109\n",
       "Cirsium vulgare (Savi) Ten.                                 58\n",
       "Cistus albidus L.                                           69\n",
       "Clematis vitalba L.                                         55\n",
       "Cyanus segetum Hill                                         65\n",
       "Cypripedium calceolus L.                                    75\n",
       "Dactylorhiza fuchsii (Druce) Soó                            54\n",
       "Dactylorhiza maculata (L.) Soó                              85\n",
       "Daucus carota L.                                            95\n",
       "Epipactis atrorubens (Hoffm.) Besser                        48\n",
       "Epipactis helleborine (L.) Crantz                           68\n",
       "Eupatorium cannabinum L.                                    67\n",
       "Ficaria verna Huds.                                         77\n",
       "Glaucium flavum Crantz                                      74\n",
       "Helianthemum nummularium (L.) Mill.                         48\n",
       "Himantoglossum hircinum (L.) Spreng.                        73\n",
       "Himantoglossum robertianum (Loisel.) P.Delforge             81\n",
       "Hypochaeris radicata L.                                     84\n",
       "Ilex aquifolium L.                                          51\n",
       "Leucanthemum vulgare Lam.                                   51\n",
       "Ophrys apifera Huds.                                       108\n",
       "Ophrys aranifera Huds.                                      83\n",
       "Ophrys lutea Cav.                                           68\n",
       "Ophrys passionis Sennen                                     52\n",
       "Ophrys scolopax Cav.                                        90\n",
       "Ophrys virescens Philippe                                   55\n",
       "Orchis anthropophora (L.) All.                              56\n",
       "Orchis mascula (L.) L.                                      74\n",
       "Orchis purpurea Huds.                                       94\n",
       "Papaver rhoeas L.                                          119\n",
       "Primula veris L.                                            63\n",
       "Primula vulgaris Huds.                                      56\n",
       "Salix caprea L.                                             88\n",
       "Serapias vomeracea (Burm.f.) Briq.                          53\n",
       "Tulipa sylvestris L.                                        66\n",
       "Urospermum dalechampii (L.) Scop. ex F.W.Schmidt            70\n",
       "Viola tricolor L.                                           57\n",
       "Name: mediaid, dtype: int64"
      ]
     },
     "execution_count": 16,
     "metadata": {},
     "output_type": "execute_result"
    }
   ],
   "source": [
    "df.groupby('species')['mediaid'].count()"
   ]
  },
  {
   "cell_type": "code",
   "execution_count": 18,
   "metadata": {},
   "outputs": [
    {
     "data": {
      "application/vnd.plotly.v1+json": {
       "config": {
        "plotlyServerURL": "https://plot.ly"
       },
       "data": [
        {
         "mode": "lines",
         "name": "Représantation d'une distribution parfaite",
         "type": "scatter",
         "x": [
          0,
          49
         ],
         "y": [
          48,
          3474
         ]
        },
        {
         "mode": "lines",
         "name": "Courbe cumulée du nombre d'images par espèces",
         "type": "scatter",
         "y": [
          48,
          96,
          145,
          196,
          247,
          299,
          351,
          403,
          456,
          510,
          565,
          620,
          675,
          731,
          787,
          843,
          900,
          958,
          1018,
          1079,
          1141,
          1204,
          1269,
          1334,
          1400,
          1466,
          1533,
          1601,
          1669,
          1738,
          1808,
          1881,
          1955,
          2029,
          2104,
          2179,
          2256,
          2337,
          2420,
          2504,
          2589,
          2674,
          2762,
          2852,
          2946,
          3041,
          3138,
          3246,
          3355,
          3474
         ]
        }
       ],
       "layout": {
        "template": {
         "data": {
          "bar": [
           {
            "error_x": {
             "color": "#2a3f5f"
            },
            "error_y": {
             "color": "#2a3f5f"
            },
            "marker": {
             "line": {
              "color": "#E5ECF6",
              "width": 0.5
             }
            },
            "type": "bar"
           }
          ],
          "barpolar": [
           {
            "marker": {
             "line": {
              "color": "#E5ECF6",
              "width": 0.5
             }
            },
            "type": "barpolar"
           }
          ],
          "carpet": [
           {
            "aaxis": {
             "endlinecolor": "#2a3f5f",
             "gridcolor": "white",
             "linecolor": "white",
             "minorgridcolor": "white",
             "startlinecolor": "#2a3f5f"
            },
            "baxis": {
             "endlinecolor": "#2a3f5f",
             "gridcolor": "white",
             "linecolor": "white",
             "minorgridcolor": "white",
             "startlinecolor": "#2a3f5f"
            },
            "type": "carpet"
           }
          ],
          "choropleth": [
           {
            "colorbar": {
             "outlinewidth": 0,
             "ticks": ""
            },
            "type": "choropleth"
           }
          ],
          "contour": [
           {
            "colorbar": {
             "outlinewidth": 0,
             "ticks": ""
            },
            "colorscale": [
             [
              0,
              "#0d0887"
             ],
             [
              0.1111111111111111,
              "#46039f"
             ],
             [
              0.2222222222222222,
              "#7201a8"
             ],
             [
              0.3333333333333333,
              "#9c179e"
             ],
             [
              0.4444444444444444,
              "#bd3786"
             ],
             [
              0.5555555555555556,
              "#d8576b"
             ],
             [
              0.6666666666666666,
              "#ed7953"
             ],
             [
              0.7777777777777778,
              "#fb9f3a"
             ],
             [
              0.8888888888888888,
              "#fdca26"
             ],
             [
              1,
              "#f0f921"
             ]
            ],
            "type": "contour"
           }
          ],
          "contourcarpet": [
           {
            "colorbar": {
             "outlinewidth": 0,
             "ticks": ""
            },
            "type": "contourcarpet"
           }
          ],
          "heatmap": [
           {
            "colorbar": {
             "outlinewidth": 0,
             "ticks": ""
            },
            "colorscale": [
             [
              0,
              "#0d0887"
             ],
             [
              0.1111111111111111,
              "#46039f"
             ],
             [
              0.2222222222222222,
              "#7201a8"
             ],
             [
              0.3333333333333333,
              "#9c179e"
             ],
             [
              0.4444444444444444,
              "#bd3786"
             ],
             [
              0.5555555555555556,
              "#d8576b"
             ],
             [
              0.6666666666666666,
              "#ed7953"
             ],
             [
              0.7777777777777778,
              "#fb9f3a"
             ],
             [
              0.8888888888888888,
              "#fdca26"
             ],
             [
              1,
              "#f0f921"
             ]
            ],
            "type": "heatmap"
           }
          ],
          "heatmapgl": [
           {
            "colorbar": {
             "outlinewidth": 0,
             "ticks": ""
            },
            "colorscale": [
             [
              0,
              "#0d0887"
             ],
             [
              0.1111111111111111,
              "#46039f"
             ],
             [
              0.2222222222222222,
              "#7201a8"
             ],
             [
              0.3333333333333333,
              "#9c179e"
             ],
             [
              0.4444444444444444,
              "#bd3786"
             ],
             [
              0.5555555555555556,
              "#d8576b"
             ],
             [
              0.6666666666666666,
              "#ed7953"
             ],
             [
              0.7777777777777778,
              "#fb9f3a"
             ],
             [
              0.8888888888888888,
              "#fdca26"
             ],
             [
              1,
              "#f0f921"
             ]
            ],
            "type": "heatmapgl"
           }
          ],
          "histogram": [
           {
            "marker": {
             "colorbar": {
              "outlinewidth": 0,
              "ticks": ""
             }
            },
            "type": "histogram"
           }
          ],
          "histogram2d": [
           {
            "colorbar": {
             "outlinewidth": 0,
             "ticks": ""
            },
            "colorscale": [
             [
              0,
              "#0d0887"
             ],
             [
              0.1111111111111111,
              "#46039f"
             ],
             [
              0.2222222222222222,
              "#7201a8"
             ],
             [
              0.3333333333333333,
              "#9c179e"
             ],
             [
              0.4444444444444444,
              "#bd3786"
             ],
             [
              0.5555555555555556,
              "#d8576b"
             ],
             [
              0.6666666666666666,
              "#ed7953"
             ],
             [
              0.7777777777777778,
              "#fb9f3a"
             ],
             [
              0.8888888888888888,
              "#fdca26"
             ],
             [
              1,
              "#f0f921"
             ]
            ],
            "type": "histogram2d"
           }
          ],
          "histogram2dcontour": [
           {
            "colorbar": {
             "outlinewidth": 0,
             "ticks": ""
            },
            "colorscale": [
             [
              0,
              "#0d0887"
             ],
             [
              0.1111111111111111,
              "#46039f"
             ],
             [
              0.2222222222222222,
              "#7201a8"
             ],
             [
              0.3333333333333333,
              "#9c179e"
             ],
             [
              0.4444444444444444,
              "#bd3786"
             ],
             [
              0.5555555555555556,
              "#d8576b"
             ],
             [
              0.6666666666666666,
              "#ed7953"
             ],
             [
              0.7777777777777778,
              "#fb9f3a"
             ],
             [
              0.8888888888888888,
              "#fdca26"
             ],
             [
              1,
              "#f0f921"
             ]
            ],
            "type": "histogram2dcontour"
           }
          ],
          "mesh3d": [
           {
            "colorbar": {
             "outlinewidth": 0,
             "ticks": ""
            },
            "type": "mesh3d"
           }
          ],
          "parcoords": [
           {
            "line": {
             "colorbar": {
              "outlinewidth": 0,
              "ticks": ""
             }
            },
            "type": "parcoords"
           }
          ],
          "scatter": [
           {
            "marker": {
             "colorbar": {
              "outlinewidth": 0,
              "ticks": ""
             }
            },
            "type": "scatter"
           }
          ],
          "scatter3d": [
           {
            "line": {
             "colorbar": {
              "outlinewidth": 0,
              "ticks": ""
             }
            },
            "marker": {
             "colorbar": {
              "outlinewidth": 0,
              "ticks": ""
             }
            },
            "type": "scatter3d"
           }
          ],
          "scattercarpet": [
           {
            "marker": {
             "colorbar": {
              "outlinewidth": 0,
              "ticks": ""
             }
            },
            "type": "scattercarpet"
           }
          ],
          "scattergeo": [
           {
            "marker": {
             "colorbar": {
              "outlinewidth": 0,
              "ticks": ""
             }
            },
            "type": "scattergeo"
           }
          ],
          "scattergl": [
           {
            "marker": {
             "colorbar": {
              "outlinewidth": 0,
              "ticks": ""
             }
            },
            "type": "scattergl"
           }
          ],
          "scattermapbox": [
           {
            "marker": {
             "colorbar": {
              "outlinewidth": 0,
              "ticks": ""
             }
            },
            "type": "scattermapbox"
           }
          ],
          "scatterpolar": [
           {
            "marker": {
             "colorbar": {
              "outlinewidth": 0,
              "ticks": ""
             }
            },
            "type": "scatterpolar"
           }
          ],
          "scatterpolargl": [
           {
            "marker": {
             "colorbar": {
              "outlinewidth": 0,
              "ticks": ""
             }
            },
            "type": "scatterpolargl"
           }
          ],
          "scatterternary": [
           {
            "marker": {
             "colorbar": {
              "outlinewidth": 0,
              "ticks": ""
             }
            },
            "type": "scatterternary"
           }
          ],
          "surface": [
           {
            "colorbar": {
             "outlinewidth": 0,
             "ticks": ""
            },
            "colorscale": [
             [
              0,
              "#0d0887"
             ],
             [
              0.1111111111111111,
              "#46039f"
             ],
             [
              0.2222222222222222,
              "#7201a8"
             ],
             [
              0.3333333333333333,
              "#9c179e"
             ],
             [
              0.4444444444444444,
              "#bd3786"
             ],
             [
              0.5555555555555556,
              "#d8576b"
             ],
             [
              0.6666666666666666,
              "#ed7953"
             ],
             [
              0.7777777777777778,
              "#fb9f3a"
             ],
             [
              0.8888888888888888,
              "#fdca26"
             ],
             [
              1,
              "#f0f921"
             ]
            ],
            "type": "surface"
           }
          ],
          "table": [
           {
            "cells": {
             "fill": {
              "color": "#EBF0F8"
             },
             "line": {
              "color": "white"
             }
            },
            "header": {
             "fill": {
              "color": "#C8D4E3"
             },
             "line": {
              "color": "white"
             }
            },
            "type": "table"
           }
          ]
         },
         "layout": {
          "annotationdefaults": {
           "arrowcolor": "#2a3f5f",
           "arrowhead": 0,
           "arrowwidth": 1
          },
          "colorscale": {
           "diverging": [
            [
             0,
             "#8e0152"
            ],
            [
             0.1,
             "#c51b7d"
            ],
            [
             0.2,
             "#de77ae"
            ],
            [
             0.3,
             "#f1b6da"
            ],
            [
             0.4,
             "#fde0ef"
            ],
            [
             0.5,
             "#f7f7f7"
            ],
            [
             0.6,
             "#e6f5d0"
            ],
            [
             0.7,
             "#b8e186"
            ],
            [
             0.8,
             "#7fbc41"
            ],
            [
             0.9,
             "#4d9221"
            ],
            [
             1,
             "#276419"
            ]
           ],
           "sequential": [
            [
             0,
             "#0d0887"
            ],
            [
             0.1111111111111111,
             "#46039f"
            ],
            [
             0.2222222222222222,
             "#7201a8"
            ],
            [
             0.3333333333333333,
             "#9c179e"
            ],
            [
             0.4444444444444444,
             "#bd3786"
            ],
            [
             0.5555555555555556,
             "#d8576b"
            ],
            [
             0.6666666666666666,
             "#ed7953"
            ],
            [
             0.7777777777777778,
             "#fb9f3a"
            ],
            [
             0.8888888888888888,
             "#fdca26"
            ],
            [
             1,
             "#f0f921"
            ]
           ],
           "sequentialminus": [
            [
             0,
             "#0d0887"
            ],
            [
             0.1111111111111111,
             "#46039f"
            ],
            [
             0.2222222222222222,
             "#7201a8"
            ],
            [
             0.3333333333333333,
             "#9c179e"
            ],
            [
             0.4444444444444444,
             "#bd3786"
            ],
            [
             0.5555555555555556,
             "#d8576b"
            ],
            [
             0.6666666666666666,
             "#ed7953"
            ],
            [
             0.7777777777777778,
             "#fb9f3a"
            ],
            [
             0.8888888888888888,
             "#fdca26"
            ],
            [
             1,
             "#f0f921"
            ]
           ]
          },
          "colorway": [
           "#636efa",
           "#EF553B",
           "#00cc96",
           "#ab63fa",
           "#FFA15A",
           "#19d3f3",
           "#FF6692",
           "#B6E880",
           "#FF97FF",
           "#FECB52"
          ],
          "font": {
           "color": "#2a3f5f"
          },
          "geo": {
           "bgcolor": "white",
           "lakecolor": "white",
           "landcolor": "#E5ECF6",
           "showlakes": true,
           "showland": true,
           "subunitcolor": "white"
          },
          "hoverlabel": {
           "align": "left"
          },
          "hovermode": "closest",
          "mapbox": {
           "style": "light"
          },
          "paper_bgcolor": "white",
          "plot_bgcolor": "#E5ECF6",
          "polar": {
           "angularaxis": {
            "gridcolor": "white",
            "linecolor": "white",
            "ticks": ""
           },
           "bgcolor": "#E5ECF6",
           "radialaxis": {
            "gridcolor": "white",
            "linecolor": "white",
            "ticks": ""
           }
          },
          "scene": {
           "xaxis": {
            "backgroundcolor": "#E5ECF6",
            "gridcolor": "white",
            "gridwidth": 2,
            "linecolor": "white",
            "showbackground": true,
            "ticks": "",
            "zerolinecolor": "white"
           },
           "yaxis": {
            "backgroundcolor": "#E5ECF6",
            "gridcolor": "white",
            "gridwidth": 2,
            "linecolor": "white",
            "showbackground": true,
            "ticks": "",
            "zerolinecolor": "white"
           },
           "zaxis": {
            "backgroundcolor": "#E5ECF6",
            "gridcolor": "white",
            "gridwidth": 2,
            "linecolor": "white",
            "showbackground": true,
            "ticks": "",
            "zerolinecolor": "white"
           }
          },
          "shapedefaults": {
           "line": {
            "color": "#2a3f5f"
           }
          },
          "ternary": {
           "aaxis": {
            "gridcolor": "white",
            "linecolor": "white",
            "ticks": ""
           },
           "baxis": {
            "gridcolor": "white",
            "linecolor": "white",
            "ticks": ""
           },
           "bgcolor": "#E5ECF6",
           "caxis": {
            "gridcolor": "white",
            "linecolor": "white",
            "ticks": ""
           }
          },
          "title": {
           "x": 0.05
          },
          "xaxis": {
           "automargin": true,
           "gridcolor": "white",
           "linecolor": "white",
           "ticks": "",
           "zerolinecolor": "white",
           "zerolinewidth": 2
          },
          "yaxis": {
           "automargin": true,
           "gridcolor": "white",
           "linecolor": "white",
           "ticks": "",
           "zerolinecolor": "white",
           "zerolinewidth": 2
          }
         }
        },
        "xaxis": {
         "title": {
          "text": "N-ième espèce triée selon son nombre d'images"
         }
        },
        "yaxis": {
         "title": {
          "text": "Nombre d'image"
         }
        }
       }
      },
      "text/html": [
       "<div>\n",
       "        \n",
       "        \n",
       "            <div id=\"9f8a192b-1b34-4874-9e47-d26ec0096009\" class=\"plotly-graph-div\" style=\"height:525px; width:100%;\"></div>\n",
       "            <script type=\"text/javascript\">\n",
       "                require([\"plotly\"], function(Plotly) {\n",
       "                    window.PLOTLYENV=window.PLOTLYENV || {};\n",
       "                    \n",
       "                if (document.getElementById(\"9f8a192b-1b34-4874-9e47-d26ec0096009\")) {\n",
       "                    Plotly.newPlot(\n",
       "                        '9f8a192b-1b34-4874-9e47-d26ec0096009',\n",
       "                        [{\"mode\": \"lines\", \"name\": \"Repr\\u00e9santation d'une distribution parfaite\", \"type\": \"scatter\", \"x\": [0, 49], \"y\": [48, 3474]}, {\"mode\": \"lines\", \"name\": \"Courbe cumul\\u00e9e du nombre d'images par esp\\u00e8ces\", \"type\": \"scatter\", \"y\": [48, 96, 145, 196, 247, 299, 351, 403, 456, 510, 565, 620, 675, 731, 787, 843, 900, 958, 1018, 1079, 1141, 1204, 1269, 1334, 1400, 1466, 1533, 1601, 1669, 1738, 1808, 1881, 1955, 2029, 2104, 2179, 2256, 2337, 2420, 2504, 2589, 2674, 2762, 2852, 2946, 3041, 3138, 3246, 3355, 3474]}],\n",
       "                        {\"template\": {\"data\": {\"bar\": [{\"error_x\": {\"color\": \"#2a3f5f\"}, \"error_y\": {\"color\": \"#2a3f5f\"}, \"marker\": {\"line\": {\"color\": \"#E5ECF6\", \"width\": 0.5}}, \"type\": \"bar\"}], \"barpolar\": [{\"marker\": {\"line\": {\"color\": \"#E5ECF6\", \"width\": 0.5}}, \"type\": \"barpolar\"}], \"carpet\": [{\"aaxis\": {\"endlinecolor\": \"#2a3f5f\", \"gridcolor\": \"white\", \"linecolor\": \"white\", \"minorgridcolor\": \"white\", \"startlinecolor\": \"#2a3f5f\"}, \"baxis\": {\"endlinecolor\": \"#2a3f5f\", \"gridcolor\": \"white\", \"linecolor\": \"white\", \"minorgridcolor\": \"white\", \"startlinecolor\": \"#2a3f5f\"}, \"type\": \"carpet\"}], \"choropleth\": [{\"colorbar\": {\"outlinewidth\": 0, \"ticks\": \"\"}, \"type\": \"choropleth\"}], \"contour\": [{\"colorbar\": {\"outlinewidth\": 0, \"ticks\": \"\"}, \"colorscale\": [[0.0, \"#0d0887\"], [0.1111111111111111, \"#46039f\"], [0.2222222222222222, \"#7201a8\"], [0.3333333333333333, \"#9c179e\"], [0.4444444444444444, \"#bd3786\"], [0.5555555555555556, \"#d8576b\"], [0.6666666666666666, \"#ed7953\"], [0.7777777777777778, \"#fb9f3a\"], [0.8888888888888888, \"#fdca26\"], [1.0, \"#f0f921\"]], \"type\": \"contour\"}], \"contourcarpet\": [{\"colorbar\": {\"outlinewidth\": 0, \"ticks\": \"\"}, \"type\": \"contourcarpet\"}], \"heatmap\": [{\"colorbar\": {\"outlinewidth\": 0, \"ticks\": \"\"}, \"colorscale\": [[0.0, \"#0d0887\"], [0.1111111111111111, \"#46039f\"], [0.2222222222222222, \"#7201a8\"], [0.3333333333333333, \"#9c179e\"], [0.4444444444444444, \"#bd3786\"], [0.5555555555555556, \"#d8576b\"], [0.6666666666666666, \"#ed7953\"], [0.7777777777777778, \"#fb9f3a\"], [0.8888888888888888, \"#fdca26\"], [1.0, \"#f0f921\"]], \"type\": \"heatmap\"}], \"heatmapgl\": [{\"colorbar\": {\"outlinewidth\": 0, \"ticks\": \"\"}, \"colorscale\": [[0.0, \"#0d0887\"], [0.1111111111111111, \"#46039f\"], [0.2222222222222222, \"#7201a8\"], [0.3333333333333333, \"#9c179e\"], [0.4444444444444444, \"#bd3786\"], [0.5555555555555556, \"#d8576b\"], [0.6666666666666666, \"#ed7953\"], [0.7777777777777778, \"#fb9f3a\"], [0.8888888888888888, \"#fdca26\"], [1.0, \"#f0f921\"]], \"type\": \"heatmapgl\"}], \"histogram\": [{\"marker\": {\"colorbar\": {\"outlinewidth\": 0, \"ticks\": \"\"}}, \"type\": \"histogram\"}], \"histogram2d\": [{\"colorbar\": {\"outlinewidth\": 0, \"ticks\": \"\"}, \"colorscale\": [[0.0, \"#0d0887\"], [0.1111111111111111, \"#46039f\"], [0.2222222222222222, \"#7201a8\"], [0.3333333333333333, \"#9c179e\"], [0.4444444444444444, \"#bd3786\"], [0.5555555555555556, \"#d8576b\"], [0.6666666666666666, \"#ed7953\"], [0.7777777777777778, \"#fb9f3a\"], [0.8888888888888888, \"#fdca26\"], [1.0, \"#f0f921\"]], \"type\": \"histogram2d\"}], \"histogram2dcontour\": [{\"colorbar\": {\"outlinewidth\": 0, \"ticks\": \"\"}, \"colorscale\": [[0.0, \"#0d0887\"], [0.1111111111111111, \"#46039f\"], [0.2222222222222222, \"#7201a8\"], [0.3333333333333333, \"#9c179e\"], [0.4444444444444444, \"#bd3786\"], [0.5555555555555556, \"#d8576b\"], [0.6666666666666666, \"#ed7953\"], [0.7777777777777778, \"#fb9f3a\"], [0.8888888888888888, \"#fdca26\"], [1.0, \"#f0f921\"]], \"type\": \"histogram2dcontour\"}], \"mesh3d\": [{\"colorbar\": {\"outlinewidth\": 0, \"ticks\": \"\"}, \"type\": \"mesh3d\"}], \"parcoords\": [{\"line\": {\"colorbar\": {\"outlinewidth\": 0, \"ticks\": \"\"}}, \"type\": \"parcoords\"}], \"scatter\": [{\"marker\": {\"colorbar\": {\"outlinewidth\": 0, \"ticks\": \"\"}}, \"type\": \"scatter\"}], \"scatter3d\": [{\"line\": {\"colorbar\": {\"outlinewidth\": 0, \"ticks\": \"\"}}, \"marker\": {\"colorbar\": {\"outlinewidth\": 0, \"ticks\": \"\"}}, \"type\": \"scatter3d\"}], \"scattercarpet\": [{\"marker\": {\"colorbar\": {\"outlinewidth\": 0, \"ticks\": \"\"}}, \"type\": \"scattercarpet\"}], \"scattergeo\": [{\"marker\": {\"colorbar\": {\"outlinewidth\": 0, \"ticks\": \"\"}}, \"type\": \"scattergeo\"}], \"scattergl\": [{\"marker\": {\"colorbar\": {\"outlinewidth\": 0, \"ticks\": \"\"}}, \"type\": \"scattergl\"}], \"scattermapbox\": [{\"marker\": {\"colorbar\": {\"outlinewidth\": 0, \"ticks\": \"\"}}, \"type\": \"scattermapbox\"}], \"scatterpolar\": [{\"marker\": {\"colorbar\": {\"outlinewidth\": 0, \"ticks\": \"\"}}, \"type\": \"scatterpolar\"}], \"scatterpolargl\": [{\"marker\": {\"colorbar\": {\"outlinewidth\": 0, \"ticks\": \"\"}}, \"type\": \"scatterpolargl\"}], \"scatterternary\": [{\"marker\": {\"colorbar\": {\"outlinewidth\": 0, \"ticks\": \"\"}}, \"type\": \"scatterternary\"}], \"surface\": [{\"colorbar\": {\"outlinewidth\": 0, \"ticks\": \"\"}, \"colorscale\": [[0.0, \"#0d0887\"], [0.1111111111111111, \"#46039f\"], [0.2222222222222222, \"#7201a8\"], [0.3333333333333333, \"#9c179e\"], [0.4444444444444444, \"#bd3786\"], [0.5555555555555556, \"#d8576b\"], [0.6666666666666666, \"#ed7953\"], [0.7777777777777778, \"#fb9f3a\"], [0.8888888888888888, \"#fdca26\"], [1.0, \"#f0f921\"]], \"type\": \"surface\"}], \"table\": [{\"cells\": {\"fill\": {\"color\": \"#EBF0F8\"}, \"line\": {\"color\": \"white\"}}, \"header\": {\"fill\": {\"color\": \"#C8D4E3\"}, \"line\": {\"color\": \"white\"}}, \"type\": \"table\"}]}, \"layout\": {\"annotationdefaults\": {\"arrowcolor\": \"#2a3f5f\", \"arrowhead\": 0, \"arrowwidth\": 1}, \"colorscale\": {\"diverging\": [[0, \"#8e0152\"], [0.1, \"#c51b7d\"], [0.2, \"#de77ae\"], [0.3, \"#f1b6da\"], [0.4, \"#fde0ef\"], [0.5, \"#f7f7f7\"], [0.6, \"#e6f5d0\"], [0.7, \"#b8e186\"], [0.8, \"#7fbc41\"], [0.9, \"#4d9221\"], [1, \"#276419\"]], \"sequential\": [[0.0, \"#0d0887\"], [0.1111111111111111, \"#46039f\"], [0.2222222222222222, \"#7201a8\"], [0.3333333333333333, \"#9c179e\"], [0.4444444444444444, \"#bd3786\"], [0.5555555555555556, \"#d8576b\"], [0.6666666666666666, \"#ed7953\"], [0.7777777777777778, \"#fb9f3a\"], [0.8888888888888888, \"#fdca26\"], [1.0, \"#f0f921\"]], \"sequentialminus\": [[0.0, \"#0d0887\"], [0.1111111111111111, \"#46039f\"], [0.2222222222222222, \"#7201a8\"], [0.3333333333333333, \"#9c179e\"], [0.4444444444444444, \"#bd3786\"], [0.5555555555555556, \"#d8576b\"], [0.6666666666666666, \"#ed7953\"], [0.7777777777777778, \"#fb9f3a\"], [0.8888888888888888, \"#fdca26\"], [1.0, \"#f0f921\"]]}, \"colorway\": [\"#636efa\", \"#EF553B\", \"#00cc96\", \"#ab63fa\", \"#FFA15A\", \"#19d3f3\", \"#FF6692\", \"#B6E880\", \"#FF97FF\", \"#FECB52\"], \"font\": {\"color\": \"#2a3f5f\"}, \"geo\": {\"bgcolor\": \"white\", \"lakecolor\": \"white\", \"landcolor\": \"#E5ECF6\", \"showlakes\": true, \"showland\": true, \"subunitcolor\": \"white\"}, \"hoverlabel\": {\"align\": \"left\"}, \"hovermode\": \"closest\", \"mapbox\": {\"style\": \"light\"}, \"paper_bgcolor\": \"white\", \"plot_bgcolor\": \"#E5ECF6\", \"polar\": {\"angularaxis\": {\"gridcolor\": \"white\", \"linecolor\": \"white\", \"ticks\": \"\"}, \"bgcolor\": \"#E5ECF6\", \"radialaxis\": {\"gridcolor\": \"white\", \"linecolor\": \"white\", \"ticks\": \"\"}}, \"scene\": {\"xaxis\": {\"backgroundcolor\": \"#E5ECF6\", \"gridcolor\": \"white\", \"gridwidth\": 2, \"linecolor\": \"white\", \"showbackground\": true, \"ticks\": \"\", \"zerolinecolor\": \"white\"}, \"yaxis\": {\"backgroundcolor\": \"#E5ECF6\", \"gridcolor\": \"white\", \"gridwidth\": 2, \"linecolor\": \"white\", \"showbackground\": true, \"ticks\": \"\", \"zerolinecolor\": \"white\"}, \"zaxis\": {\"backgroundcolor\": \"#E5ECF6\", \"gridcolor\": \"white\", \"gridwidth\": 2, \"linecolor\": \"white\", \"showbackground\": true, \"ticks\": \"\", \"zerolinecolor\": \"white\"}}, \"shapedefaults\": {\"line\": {\"color\": \"#2a3f5f\"}}, \"ternary\": {\"aaxis\": {\"gridcolor\": \"white\", \"linecolor\": \"white\", \"ticks\": \"\"}, \"baxis\": {\"gridcolor\": \"white\", \"linecolor\": \"white\", \"ticks\": \"\"}, \"bgcolor\": \"#E5ECF6\", \"caxis\": {\"gridcolor\": \"white\", \"linecolor\": \"white\", \"ticks\": \"\"}}, \"title\": {\"x\": 0.05}, \"xaxis\": {\"automargin\": true, \"gridcolor\": \"white\", \"linecolor\": \"white\", \"ticks\": \"\", \"zerolinecolor\": \"white\", \"zerolinewidth\": 2}, \"yaxis\": {\"automargin\": true, \"gridcolor\": \"white\", \"linecolor\": \"white\", \"ticks\": \"\", \"zerolinecolor\": \"white\", \"zerolinewidth\": 2}}}, \"xaxis\": {\"title\": {\"text\": \"N-i\\u00e8me esp\\u00e8ce tri\\u00e9e selon son nombre d'images\"}}, \"yaxis\": {\"title\": {\"text\": \"Nombre d'image\"}}},\n",
       "                        {\"responsive\": true}\n",
       "                    ).then(function(){\n",
       "                            \n",
       "var gd = document.getElementById('9f8a192b-1b34-4874-9e47-d26ec0096009');\n",
       "var x = new MutationObserver(function (mutations, observer) {{\n",
       "        var display = window.getComputedStyle(gd).display;\n",
       "        if (!display || display === 'none') {{\n",
       "            console.log([gd, 'removed!']);\n",
       "            Plotly.purge(gd);\n",
       "            observer.disconnect();\n",
       "        }}\n",
       "}});\n",
       "\n",
       "// Listen for the removal of the full notebook cells\n",
       "var notebookContainer = gd.closest('#notebook-container');\n",
       "if (notebookContainer) {{\n",
       "    x.observe(notebookContainer, {childList: true});\n",
       "}}\n",
       "\n",
       "// Listen for the clearing of the current output cell\n",
       "var outputEl = gd.closest('.output');\n",
       "if (outputEl) {{\n",
       "    x.observe(outputEl, {childList: true});\n",
       "}}\n",
       "\n",
       "                        })\n",
       "                };\n",
       "                });\n",
       "            </script>\n",
       "        </div>"
      ]
     },
     "metadata": {},
     "output_type": "display_data"
    }
   ],
   "source": [
    "x = 0\n",
    "ls = []\n",
    "for i in sorted(df.groupby('species')['mediaid'].count().values):\n",
    "    x=x+i\n",
    "    ls.append(x)\n",
    "\n",
    "lineaire = [ls[0],ls[len(ls)-1]]\n",
    "\n",
    "ls_y = ls\n",
    "lineaire_y=lineaire\n",
    "lineaire_x=[0,len(ls)-1]\n",
    "\n",
    "# Create traces\n",
    "fig = go.Figure()\n",
    "fig.add_trace(go.Scatter(x=lineaire_x, y=lineaire_y,\n",
    "                    mode='lines',\n",
    "                    name=\"Représantation d'une distribution parfaite\"))\n",
    "fig.add_trace(go.Scatter( y=ls_y,\n",
    "                    mode='lines',\n",
    "                    name=\"Courbe cumulée du nombre d'images par espèces\"))\n",
    "\n",
    "fig.update_layout(xaxis_title=\"N-ième espèce triée selon son nombre d'images\",\n",
    "                   yaxis_title=\"Nombre d'image\")\n",
    "\n",
    "fig.show()\n"
   ]
  }
 ],
 "metadata": {
  "kernelspec": {
   "display_name": "Python 3",
   "language": "python",
   "name": "python3"
  },
  "language_info": {
   "codemirror_mode": {
    "name": "ipython",
    "version": 3
   },
   "file_extension": ".py",
   "mimetype": "text/x-python",
   "name": "python",
   "nbconvert_exporter": "python",
   "pygments_lexer": "ipython3",
   "version": "3.6.8"
  }
 },
 "nbformat": 4,
 "nbformat_minor": 2
}
