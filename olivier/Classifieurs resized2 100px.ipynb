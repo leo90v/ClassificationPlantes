{
 "cells": [
  {
   "cell_type": "code",
   "execution_count": 1,
   "metadata": {},
   "outputs": [],
   "source": [
    "# Imports de base\n",
    "import os\n",
    "import pandas as pd\n",
    "import numpy as np\n",
    "\n",
    "# Classification sans features\n",
    "from sklearn.svm import LinearSVC\n",
    "from sklearn.linear_model import SGDClassifier\n",
    "from sklearn.linear_model import LogisticRegression\n",
    "\n",
    "# Mesures : accuracy , rappel, précision, f1 score\n",
    "from sklearn.metrics import accuracy_score\n",
    "from sklearn.metrics import recall_score\n",
    "from sklearn.metrics import precision_score\n",
    "from sklearn.metrics import f1_score\n",
    "\n",
    "# Skimage \n",
    "from skimage import io\n",
    "from skimage import transform\n",
    "from skimage.util import img_as_ubyte\n",
    "from skimage.util import img_as_int\n",
    "\n",
    "# MultiThreading\n",
    "from joblib import Parallel, delayed"
   ]
  },
  {
   "cell_type": "code",
   "execution_count": 2,
   "metadata": {},
   "outputs": [],
   "source": [
    "threads = 6\n",
    "subset = 'train'\n",
    "\n",
    "folder = \"..\"+ os.sep + \"data\" + os.sep + \"resized2\" + os.sep\n",
    "file =  subset + os.sep + subset + \".csv\"\n",
    "\n",
    "train_raw_df = pd.read_csv(folder + file,sep=\",\")\n",
    "\n",
    "loadpath = folder + subset + os.sep"
   ]
  },
  {
   "cell_type": "code",
   "execution_count": 3,
   "metadata": {},
   "outputs": [],
   "source": [
    "models_classifiers = []\n",
    "models_classifiers.append(('LinearSVC', LinearSVC(random_state=0, tol=1e-5)))\n",
    "models_classifiers.append(('SGDClassifier', SGDClassifier(loss=\"hinge\", penalty=\"l2\", max_iter=5)))\n",
    "models_classifiers.append(('LR', LogisticRegression()))"
   ]
  },
  {
   "cell_type": "code",
   "execution_count": 4,
   "metadata": {},
   "outputs": [],
   "source": [
    "def imgToVector(fname):\n",
    "    image = io.imread(loadpath + fname)\n",
    "    image = img_as_ubyte(image)\n",
    "    vector = image.reshape(100*100*3)\n",
    "    #vector = vector.flatten()\n",
    "    return vector"
   ]
  },
  {
   "cell_type": "code",
   "execution_count": 5,
   "metadata": {},
   "outputs": [],
   "source": [
    "liste_image = Parallel(n_jobs=threads)(delayed(imgToVector)(str(i) + '.jpg') for i in train_raw_df['mediaid']);"
   ]
  },
  {
   "cell_type": "code",
   "execution_count": 6,
   "metadata": {},
   "outputs": [
    {
     "name": "stderr",
     "output_type": "stream",
     "text": [
      "/home/e20150007928/public_html/M2/ClassificationPlantes/env/lib/python3.6/site-packages/sklearn/svm/base.py:929: ConvergenceWarning: Liblinear failed to converge, increase the number of iterations.\n",
      "/home/e20150007928/public_html/M2/ClassificationPlantes/env/lib/python3.6/site-packages/sklearn/linear_model/stochastic_gradient.py:561: ConvergenceWarning: Maximum number of iteration reached before convergence. Consider increasing max_iter to improve the fit.\n",
      "  ConvergenceWarning)\n",
      "/home/e20150007928/public_html/M2/ClassificationPlantes/env/lib/python3.6/site-packages/sklearn/linear_model/logistic.py:432: FutureWarning: Default solver will be changed to 'lbfgs' in 0.22. Specify a solver to silence this warning.\n",
      "  FutureWarning)\n",
      "/home/e20150007928/public_html/M2/ClassificationPlantes/env/lib/python3.6/site-packages/sklearn/linear_model/logistic.py:469: FutureWarning: Default multi_class will be changed to 'auto' in 0.22. Specify the multi_class option to silence this warning.\n",
      "  \"this warning.\", FutureWarning)\n"
     ]
    }
   ],
   "source": [
    "y_train = train_raw_df['classid']\n",
    "\n",
    "X_train = liste_image\n",
    "for name, clf in models_classifiers:\n",
    "    clf.fit(X_train, y_train)"
   ]
  },
  {
   "cell_type": "code",
   "execution_count": 9,
   "metadata": {},
   "outputs": [],
   "source": [
    "#Load Test Data\n",
    "subset = 'test'\n",
    "file =  subset + os.sep + subset + \".csv\"\n",
    "\n",
    "test_raw_df = pd.read_csv(folder + file,sep=\",\")\n",
    "test_raw_df.head()\n",
    "\n",
    "loadpath = folder + subset + os.sep"
   ]
  },
  {
   "cell_type": "code",
   "execution_count": 10,
   "metadata": {},
   "outputs": [],
   "source": [
    "liste_image_test = Parallel(n_jobs=threads)(delayed(imgToVector)(str(i) + '.jpg') for i in test_raw_df['mediaid']);"
   ]
  },
  {
   "cell_type": "code",
   "execution_count": 11,
   "metadata": {},
   "outputs": [],
   "source": [
    "X_test = liste_image_test\n",
    "y_true = test_raw_df['classid']\n",
    "\n",
    "y_predicts = []\n",
    "for name,clf in models_classifiers:\n",
    "    y_predicts.append(clf.predict(X_test))"
   ]
  },
  {
   "cell_type": "code",
   "execution_count": 12,
   "metadata": {},
   "outputs": [
    {
     "name": "stdout",
     "output_type": "stream",
     "text": [
      "Accuracy: 0.19568345323741007\n",
      "Rappel: 0.19568345323741007\n",
      "Precision: 0.19568345323741007\n",
      "F-Measure: 0.19568345323741007\n",
      "------------\n",
      "Accuracy: 0.1539568345323741\n",
      "Rappel: 0.1539568345323741\n",
      "Precision: 0.1539568345323741\n",
      "F-Measure: 0.1539568345323741\n",
      "------------\n",
      "Accuracy: 0.21294964028776978\n",
      "Rappel: 0.21294964028776978\n",
      "Precision: 0.21294964028776978\n",
      "F-Measure: 0.21294964028776978\n",
      "------------\n"
     ]
    }
   ],
   "source": [
    "for y_predict in y_predicts:\n",
    "    print(\"Accuracy: \" + str(accuracy_score(y_true, y_predict)))\n",
    "    print(\"Rappel: \" + str(recall_score(y_true, y_predict,average='micro')))\n",
    "    print(\"Precision: \" + str(precision_score(y_true, y_predict,average='micro')))\n",
    "    print(\"F-Measure: \" + str(precision_score(y_true, y_predict,average='micro')))\n",
    "    print('------------')"
   ]
  },
  {
   "cell_type": "code",
   "execution_count": null,
   "metadata": {},
   "outputs": [],
   "source": []
  }
 ],
 "metadata": {
  "kernelspec": {
   "display_name": "Python 3",
   "language": "python",
   "name": "python3"
  },
  "language_info": {
   "codemirror_mode": {
    "name": "ipython",
    "version": 3
   },
   "file_extension": ".py",
   "mimetype": "text/x-python",
   "name": "python",
   "nbconvert_exporter": "python",
   "pygments_lexer": "ipython3",
   "version": "3.6.8"
  }
 },
 "nbformat": 4,
 "nbformat_minor": 2
}
